{
  "nbformat": 4,
  "nbformat_minor": 0,
  "metadata": {
    "colab": {
      "name": "Food_Predictions_Project_Final.ipynb",
      "provenance": [],
      "collapsed_sections": [
        "20S1rCJKKB84",
        "UjAlRKPbKVMx"
      ],
      "mount_file_id": "1gfL-T_Kn3GaqY-UQflQaobxDxPnoo8hJ",
      "authorship_tag": "ABX9TyN30weMR7S2je0afwInEDUd",
      "include_colab_link": true
    },
    "kernelspec": {
      "name": "python3",
      "display_name": "Python 3"
    },
    "language_info": {
      "name": "python"
    }
  },
  "cells": [
    {
      "cell_type": "markdown",
      "metadata": {
        "id": "view-in-github",
        "colab_type": "text"
      },
      "source": [
        "<a href=\"https://colab.research.google.com/github/rgnemasters/Food_Sales_Prediction_Project/blob/main/Food_Predictions_Project_Final.ipynb\" target=\"_parent\"><img src=\"https://colab.research.google.com/assets/colab-badge.svg\" alt=\"Open In Colab\"/></a>"
      ]
    },
    {
      "cell_type": "markdown",
      "source": [
        "#Ryan Masters\n",
        "\n",
        "\n",
        "*   Project Final\n",
        "*   3/4/2022\n",
        "\n",
        "**Data Dictionary for this dataset**\n",
        "\n",
        "\n",
        "|**Variable Name**|\t**Description**|\n",
        "| ----- | ----- |\n",
        "|Item_Identifier|\tUnique product ID|\n",
        "|Item_Weight|\tWeight of product|\n",
        "|Item_Fat_Content|\tWhether the product is low fat or regular|\n",
        "|Item_Visibility|\tThe percentage of total display area of all products in a store allocated to the particular product|\n",
        "|Item_Type|\tThe category to which the product belongs|\n",
        "|Item_MRP|\tMaximum Retail Price (list price) of the product|\n",
        "|Outlet_Identifier|\tUnique store ID|\n",
        "|Outlet_Establishment_Year|\tThe year in which store was established|\n",
        "|Outlet_Size|\tThe size of the store in terms of ground area covered|\n",
        "|Outlet_Location_Type|\tThe type of area in which the store is located|\n",
        "|Outlet_Type|\tWhether the outlet is a grocery store or some sort of supermarket|\n",
        "|Item_Outlet_Sales|\tSales of the product in the particular store. This is the target variable to be predicted.|\n",
        "\n"
      ],
      "metadata": {
        "id": "fFoX4iWHPsyE"
      }
    },
    {
      "cell_type": "markdown",
      "source": [
        "##Mount Drive, Import Dataset and Libraries"
      ],
      "metadata": {
        "id": "20S1rCJKKB84"
      }
    },
    {
      "cell_type": "code",
      "execution_count": 2,
      "metadata": {
        "colab": {
          "base_uri": "https://localhost:8080/"
        },
        "id": "blvl-mH_1jAY",
        "outputId": "ffb5aa49-efc9-4485-a438-716e1030f24a"
      },
      "outputs": [
        {
          "output_type": "stream",
          "name": "stdout",
          "text": [
            "Mounted at /content/drive\n"
          ]
        }
      ],
      "source": [
        "from google.colab import drive\n",
        "drive.mount('/content/drive', force_remount=True)\n",
        "\n",
        "import numpy as np\n",
        "import pandas as pd\n",
        "import matplotlib.pyplot as plt\n",
        "import seaborn as sns \n",
        "from sklearn.preprocessing import StandardScaler, OneHotEncoder\n",
        "from sklearn.pipeline import make_pipeline\n",
        "from sklearn.impute import SimpleImputer\n",
        "from sklearn.compose import make_column_transformer, make_column_selector\n",
        "from sklearn.model_selection import train_test_split"
      ]
    },
    {
      "cell_type": "code",
      "source": [
        "filename = '/content/drive/MyDrive/Datasets/sales_predictions.csv'\n",
        "df = pd.read_csv(filename)\n",
        "df.head()"
      ],
      "metadata": {
        "colab": {
          "base_uri": "https://localhost:8080/",
          "height": 357
        },
        "id": "LgpNhO1TAeXI",
        "outputId": "84897fd0-5222-4750-ff1f-a9aa981ac41b"
      },
      "execution_count": 3,
      "outputs": [
        {
          "output_type": "execute_result",
          "data": {
            "text/html": [
              "\n",
              "  <div id=\"df-74b60681-b5b3-41f8-8fe7-f2fc38219dc9\">\n",
              "    <div class=\"colab-df-container\">\n",
              "      <div>\n",
              "<style scoped>\n",
              "    .dataframe tbody tr th:only-of-type {\n",
              "        vertical-align: middle;\n",
              "    }\n",
              "\n",
              "    .dataframe tbody tr th {\n",
              "        vertical-align: top;\n",
              "    }\n",
              "\n",
              "    .dataframe thead th {\n",
              "        text-align: right;\n",
              "    }\n",
              "</style>\n",
              "<table border=\"1\" class=\"dataframe\">\n",
              "  <thead>\n",
              "    <tr style=\"text-align: right;\">\n",
              "      <th></th>\n",
              "      <th>Item_Identifier</th>\n",
              "      <th>Item_Weight</th>\n",
              "      <th>Item_Fat_Content</th>\n",
              "      <th>Item_Visibility</th>\n",
              "      <th>Item_Type</th>\n",
              "      <th>Item_MRP</th>\n",
              "      <th>Outlet_Identifier</th>\n",
              "      <th>Outlet_Establishment_Year</th>\n",
              "      <th>Outlet_Size</th>\n",
              "      <th>Outlet_Location_Type</th>\n",
              "      <th>Outlet_Type</th>\n",
              "      <th>Item_Outlet_Sales</th>\n",
              "    </tr>\n",
              "  </thead>\n",
              "  <tbody>\n",
              "    <tr>\n",
              "      <th>0</th>\n",
              "      <td>FDA15</td>\n",
              "      <td>9.30</td>\n",
              "      <td>Low Fat</td>\n",
              "      <td>0.016047</td>\n",
              "      <td>Dairy</td>\n",
              "      <td>249.8092</td>\n",
              "      <td>OUT049</td>\n",
              "      <td>1999</td>\n",
              "      <td>Medium</td>\n",
              "      <td>Tier 1</td>\n",
              "      <td>Supermarket Type1</td>\n",
              "      <td>3735.1380</td>\n",
              "    </tr>\n",
              "    <tr>\n",
              "      <th>1</th>\n",
              "      <td>DRC01</td>\n",
              "      <td>5.92</td>\n",
              "      <td>Regular</td>\n",
              "      <td>0.019278</td>\n",
              "      <td>Soft Drinks</td>\n",
              "      <td>48.2692</td>\n",
              "      <td>OUT018</td>\n",
              "      <td>2009</td>\n",
              "      <td>Medium</td>\n",
              "      <td>Tier 3</td>\n",
              "      <td>Supermarket Type2</td>\n",
              "      <td>443.4228</td>\n",
              "    </tr>\n",
              "    <tr>\n",
              "      <th>2</th>\n",
              "      <td>FDN15</td>\n",
              "      <td>17.50</td>\n",
              "      <td>Low Fat</td>\n",
              "      <td>0.016760</td>\n",
              "      <td>Meat</td>\n",
              "      <td>141.6180</td>\n",
              "      <td>OUT049</td>\n",
              "      <td>1999</td>\n",
              "      <td>Medium</td>\n",
              "      <td>Tier 1</td>\n",
              "      <td>Supermarket Type1</td>\n",
              "      <td>2097.2700</td>\n",
              "    </tr>\n",
              "    <tr>\n",
              "      <th>3</th>\n",
              "      <td>FDX07</td>\n",
              "      <td>19.20</td>\n",
              "      <td>Regular</td>\n",
              "      <td>0.000000</td>\n",
              "      <td>Fruits and Vegetables</td>\n",
              "      <td>182.0950</td>\n",
              "      <td>OUT010</td>\n",
              "      <td>1998</td>\n",
              "      <td>NaN</td>\n",
              "      <td>Tier 3</td>\n",
              "      <td>Grocery Store</td>\n",
              "      <td>732.3800</td>\n",
              "    </tr>\n",
              "    <tr>\n",
              "      <th>4</th>\n",
              "      <td>NCD19</td>\n",
              "      <td>8.93</td>\n",
              "      <td>Low Fat</td>\n",
              "      <td>0.000000</td>\n",
              "      <td>Household</td>\n",
              "      <td>53.8614</td>\n",
              "      <td>OUT013</td>\n",
              "      <td>1987</td>\n",
              "      <td>High</td>\n",
              "      <td>Tier 3</td>\n",
              "      <td>Supermarket Type1</td>\n",
              "      <td>994.7052</td>\n",
              "    </tr>\n",
              "  </tbody>\n",
              "</table>\n",
              "</div>\n",
              "      <button class=\"colab-df-convert\" onclick=\"convertToInteractive('df-74b60681-b5b3-41f8-8fe7-f2fc38219dc9')\"\n",
              "              title=\"Convert this dataframe to an interactive table.\"\n",
              "              style=\"display:none;\">\n",
              "        \n",
              "  <svg xmlns=\"http://www.w3.org/2000/svg\" height=\"24px\"viewBox=\"0 0 24 24\"\n",
              "       width=\"24px\">\n",
              "    <path d=\"M0 0h24v24H0V0z\" fill=\"none\"/>\n",
              "    <path d=\"M18.56 5.44l.94 2.06.94-2.06 2.06-.94-2.06-.94-.94-2.06-.94 2.06-2.06.94zm-11 1L8.5 8.5l.94-2.06 2.06-.94-2.06-.94L8.5 2.5l-.94 2.06-2.06.94zm10 10l.94 2.06.94-2.06 2.06-.94-2.06-.94-.94-2.06-.94 2.06-2.06.94z\"/><path d=\"M17.41 7.96l-1.37-1.37c-.4-.4-.92-.59-1.43-.59-.52 0-1.04.2-1.43.59L10.3 9.45l-7.72 7.72c-.78.78-.78 2.05 0 2.83L4 21.41c.39.39.9.59 1.41.59.51 0 1.02-.2 1.41-.59l7.78-7.78 2.81-2.81c.8-.78.8-2.07 0-2.86zM5.41 20L4 18.59l7.72-7.72 1.47 1.35L5.41 20z\"/>\n",
              "  </svg>\n",
              "      </button>\n",
              "      \n",
              "  <style>\n",
              "    .colab-df-container {\n",
              "      display:flex;\n",
              "      flex-wrap:wrap;\n",
              "      gap: 12px;\n",
              "    }\n",
              "\n",
              "    .colab-df-convert {\n",
              "      background-color: #E8F0FE;\n",
              "      border: none;\n",
              "      border-radius: 50%;\n",
              "      cursor: pointer;\n",
              "      display: none;\n",
              "      fill: #1967D2;\n",
              "      height: 32px;\n",
              "      padding: 0 0 0 0;\n",
              "      width: 32px;\n",
              "    }\n",
              "\n",
              "    .colab-df-convert:hover {\n",
              "      background-color: #E2EBFA;\n",
              "      box-shadow: 0px 1px 2px rgba(60, 64, 67, 0.3), 0px 1px 3px 1px rgba(60, 64, 67, 0.15);\n",
              "      fill: #174EA6;\n",
              "    }\n",
              "\n",
              "    [theme=dark] .colab-df-convert {\n",
              "      background-color: #3B4455;\n",
              "      fill: #D2E3FC;\n",
              "    }\n",
              "\n",
              "    [theme=dark] .colab-df-convert:hover {\n",
              "      background-color: #434B5C;\n",
              "      box-shadow: 0px 1px 3px 1px rgba(0, 0, 0, 0.15);\n",
              "      filter: drop-shadow(0px 1px 2px rgba(0, 0, 0, 0.3));\n",
              "      fill: #FFFFFF;\n",
              "    }\n",
              "  </style>\n",
              "\n",
              "      <script>\n",
              "        const buttonEl =\n",
              "          document.querySelector('#df-74b60681-b5b3-41f8-8fe7-f2fc38219dc9 button.colab-df-convert');\n",
              "        buttonEl.style.display =\n",
              "          google.colab.kernel.accessAllowed ? 'block' : 'none';\n",
              "\n",
              "        async function convertToInteractive(key) {\n",
              "          const element = document.querySelector('#df-74b60681-b5b3-41f8-8fe7-f2fc38219dc9');\n",
              "          const dataTable =\n",
              "            await google.colab.kernel.invokeFunction('convertToInteractive',\n",
              "                                                     [key], {});\n",
              "          if (!dataTable) return;\n",
              "\n",
              "          const docLinkHtml = 'Like what you see? Visit the ' +\n",
              "            '<a target=\"_blank\" href=https://colab.research.google.com/notebooks/data_table.ipynb>data table notebook</a>'\n",
              "            + ' to learn more about interactive tables.';\n",
              "          element.innerHTML = '';\n",
              "          dataTable['output_type'] = 'display_data';\n",
              "          await google.colab.output.renderOutput(dataTable, element);\n",
              "          const docLink = document.createElement('div');\n",
              "          docLink.innerHTML = docLinkHtml;\n",
              "          element.appendChild(docLink);\n",
              "        }\n",
              "      </script>\n",
              "    </div>\n",
              "  </div>\n",
              "  "
            ],
            "text/plain": [
              "  Item_Identifier  Item_Weight Item_Fat_Content  Item_Visibility  \\\n",
              "0           FDA15         9.30          Low Fat         0.016047   \n",
              "1           DRC01         5.92          Regular         0.019278   \n",
              "2           FDN15        17.50          Low Fat         0.016760   \n",
              "3           FDX07        19.20          Regular         0.000000   \n",
              "4           NCD19         8.93          Low Fat         0.000000   \n",
              "\n",
              "               Item_Type  Item_MRP Outlet_Identifier  \\\n",
              "0                  Dairy  249.8092            OUT049   \n",
              "1            Soft Drinks   48.2692            OUT018   \n",
              "2                   Meat  141.6180            OUT049   \n",
              "3  Fruits and Vegetables  182.0950            OUT010   \n",
              "4              Household   53.8614            OUT013   \n",
              "\n",
              "   Outlet_Establishment_Year Outlet_Size Outlet_Location_Type  \\\n",
              "0                       1999      Medium               Tier 1   \n",
              "1                       2009      Medium               Tier 3   \n",
              "2                       1999      Medium               Tier 1   \n",
              "3                       1998         NaN               Tier 3   \n",
              "4                       1987        High               Tier 3   \n",
              "\n",
              "         Outlet_Type  Item_Outlet_Sales  \n",
              "0  Supermarket Type1          3735.1380  \n",
              "1  Supermarket Type2           443.4228  \n",
              "2  Supermarket Type1          2097.2700  \n",
              "3      Grocery Store           732.3800  \n",
              "4  Supermarket Type1           994.7052  "
            ]
          },
          "metadata": {},
          "execution_count": 3
        }
      ]
    },
    {
      "cell_type": "markdown",
      "source": [
        "##Manually Clean Data of Null Values and Inconsistencies"
      ],
      "metadata": {
        "id": "UjAlRKPbKVMx"
      }
    },
    {
      "cell_type": "code",
      "source": [
        "#Identify number and location of null values\n",
        "df.isna().sum()"
      ],
      "metadata": {
        "id": "u91LoQagBxRV",
        "colab": {
          "base_uri": "https://localhost:8080/"
        },
        "outputId": "b4a19cbf-71c4-4384-d7cb-25b917ed6823"
      },
      "execution_count": 4,
      "outputs": [
        {
          "output_type": "execute_result",
          "data": {
            "text/plain": [
              "Item_Identifier                 0\n",
              "Item_Weight                  1463\n",
              "Item_Fat_Content                0\n",
              "Item_Visibility                 0\n",
              "Item_Type                       0\n",
              "Item_MRP                        0\n",
              "Outlet_Identifier               0\n",
              "Outlet_Establishment_Year       0\n",
              "Outlet_Size                  2410\n",
              "Outlet_Location_Type            0\n",
              "Outlet_Type                     0\n",
              "Item_Outlet_Sales               0\n",
              "dtype: int64"
            ]
          },
          "metadata": {},
          "execution_count": 4
        }
      ]
    },
    {
      "cell_type": "code",
      "source": [
        "#determine total number of rows and columns\n",
        "df.shape"
      ],
      "metadata": {
        "id": "MxDqPmzBCJOW",
        "colab": {
          "base_uri": "https://localhost:8080/"
        },
        "outputId": "9e8b50fd-09eb-4c1a-d8c8-96ad270f174d"
      },
      "execution_count": 5,
      "outputs": [
        {
          "output_type": "execute_result",
          "data": {
            "text/plain": [
              "(8523, 12)"
            ]
          },
          "metadata": {},
          "execution_count": 5
        }
      ]
    },
    {
      "cell_type": "code",
      "source": [
        "# determined data types to check for numerical values stored as strings\n",
        "df.dtypes"
      ],
      "metadata": {
        "id": "6ad3nW9BZ4Yk",
        "colab": {
          "base_uri": "https://localhost:8080/"
        },
        "outputId": "f4eadca7-2efb-4432-96dd-cd6a6125e17d"
      },
      "execution_count": 6,
      "outputs": [
        {
          "output_type": "execute_result",
          "data": {
            "text/plain": [
              "Item_Identifier               object\n",
              "Item_Weight                  float64\n",
              "Item_Fat_Content              object\n",
              "Item_Visibility              float64\n",
              "Item_Type                     object\n",
              "Item_MRP                     float64\n",
              "Outlet_Identifier             object\n",
              "Outlet_Establishment_Year      int64\n",
              "Outlet_Size                   object\n",
              "Outlet_Location_Type          object\n",
              "Outlet_Type                   object\n",
              "Item_Outlet_Sales            float64\n",
              "dtype: object"
            ]
          },
          "metadata": {},
          "execution_count": 6
        }
      ]
    },
    {
      "cell_type": "code",
      "source": [
        "#check to find any correlations between null values in Outlet Size category\n",
        "na_size = df['Outlet_Size'].isna() == True\n",
        "df.groupby('Outlet_Location_Type')['Outlet_Size'].value_counts(dropna=False)"
      ],
      "metadata": {
        "id": "0JoyNfYjDReO",
        "colab": {
          "base_uri": "https://localhost:8080/"
        },
        "outputId": "aeed01aa-e97f-401e-c805-5a563631ec75"
      },
      "execution_count": 7,
      "outputs": [
        {
          "output_type": "execute_result",
          "data": {
            "text/plain": [
              "Outlet_Location_Type  Outlet_Size\n",
              "Tier 1                Small          1458\n",
              "                      Medium          930\n",
              "Tier 2                NaN            1855\n",
              "                      Small           930\n",
              "Tier 3                Medium         1863\n",
              "                      High            932\n",
              "                      NaN             555\n",
              "Name: Outlet_Size, dtype: int64"
            ]
          },
          "metadata": {},
          "execution_count": 7
        }
      ]
    },
    {
      "cell_type": "code",
      "source": [
        "# Based on correlation of Tier 2 locations with Small sized markets, fill NaN's with \"Small\"\n",
        "#Based on majority of Tier 3 locations in Medium sized locations, fill these NaN's with \"Medium\"\n",
        "outlet_tier1 = df['Outlet_Location_Type'] == 'Tier 1'\n",
        "outlet_tier2 = df['Outlet_Location_Type'] == 'Tier 2'\n",
        "outlet_tier3 = df['Outlet_Location_Type'] == 'Tier 3'\n",
        "df.loc[outlet_tier2 & na_size, 'Outlet_Size'] = 'Small'\n",
        "df.loc[outlet_tier3 & na_size, 'Outlet_Size'] = 'Medium'\n",
        "df.isna().sum()"
      ],
      "metadata": {
        "id": "-we-AmzHQR4I",
        "colab": {
          "base_uri": "https://localhost:8080/"
        },
        "outputId": "af14eefd-647c-4fb6-a690-e670e85653ac"
      },
      "execution_count": 8,
      "outputs": [
        {
          "output_type": "execute_result",
          "data": {
            "text/plain": [
              "Item_Identifier                 0\n",
              "Item_Weight                  1463\n",
              "Item_Fat_Content                0\n",
              "Item_Visibility                 0\n",
              "Item_Type                       0\n",
              "Item_MRP                        0\n",
              "Outlet_Identifier               0\n",
              "Outlet_Establishment_Year       0\n",
              "Outlet_Size                     0\n",
              "Outlet_Location_Type            0\n",
              "Outlet_Type                     0\n",
              "Item_Outlet_Sales               0\n",
              "dtype: int64"
            ]
          },
          "metadata": {},
          "execution_count": 8
        }
      ]
    },
    {
      "cell_type": "code",
      "source": [
        "#Replace inconsistent values to clean up data in 'Item_Fat_Content'\n",
        "df['Item_Fat_Content'] = df['Item_Fat_Content'].str.replace('LF', 'Low Fat')\n",
        "df['Item_Fat_Content'] = df['Item_Fat_Content'].str.replace('low fat', 'Low Fat')\n",
        "df['Item_Fat_Content'] = df['Item_Fat_Content'].str.replace('reg', 'Regular')\n",
        "df['Item_Fat_Content'].value_counts()"
      ],
      "metadata": {
        "colab": {
          "base_uri": "https://localhost:8080/"
        },
        "id": "9Ym7DQYMt5K3",
        "outputId": "ecfd1395-e732-4294-ef0a-fbaf4d61ee79"
      },
      "execution_count": 9,
      "outputs": [
        {
          "output_type": "execute_result",
          "data": {
            "text/plain": [
              "Low Fat    5517\n",
              "Regular    3006\n",
              "Name: Item_Fat_Content, dtype: int64"
            ]
          },
          "metadata": {},
          "execution_count": 9
        }
      ]
    },
    {
      "cell_type": "code",
      "source": [
        "#Reviewing and removing items with a visibility of \"0\", \n",
        "itemVis_null = df['Item_Visibility'] == 0\n",
        "itemVis_null.sum()"
      ],
      "metadata": {
        "colab": {
          "base_uri": "https://localhost:8080/"
        },
        "id": "zpNnkTD2Ka6F",
        "outputId": "fdf36173-45b2-40ec-b973-2a2f3d0ff63d"
      },
      "execution_count": 10,
      "outputs": [
        {
          "output_type": "execute_result",
          "data": {
            "text/plain": [
              "526"
            ]
          },
          "metadata": {},
          "execution_count": 10
        }
      ]
    },
    {
      "cell_type": "code",
      "source": [
        "#Replacing 0% visibilities with mean\n",
        "df.loc[itemVis_null, 'Item_Visibility'] = df['Item_Visibility'].median()\n",
        "df['Item_Visibility'].min()"
      ],
      "metadata": {
        "colab": {
          "base_uri": "https://localhost:8080/"
        },
        "id": "WjMI64Q9Kdt8",
        "outputId": "efb14887-c7c6-4cdd-9fad-6f7d1a3b4461"
      },
      "execution_count": 11,
      "outputs": [
        {
          "output_type": "execute_result",
          "data": {
            "text/plain": [
              "0.003574698"
            ]
          },
          "metadata": {},
          "execution_count": 11
        }
      ]
    },
    {
      "cell_type": "code",
      "source": [
        "#Fill NaNs in 'Item_Weight' with mode value.\n",
        "df['Item_Weight'] = df['Item_Weight'].fillna(df['Item_Weight'].median())\n",
        "df['Item_Weight'].describe()"
      ],
      "metadata": {
        "colab": {
          "base_uri": "https://localhost:8080/"
        },
        "id": "Zk41pupsdIy-",
        "outputId": "b44baa2b-57f5-46d9-c6eb-ef2f0d32da24"
      },
      "execution_count": 12,
      "outputs": [
        {
          "output_type": "execute_result",
          "data": {
            "text/plain": [
              "count    8523.00000\n",
              "mean       12.81342\n",
              "std         4.22724\n",
              "min         4.55500\n",
              "25%         9.31000\n",
              "50%        12.60000\n",
              "75%        16.00000\n",
              "max        21.35000\n",
              "Name: Item_Weight, dtype: float64"
            ]
          },
          "metadata": {},
          "execution_count": 12
        }
      ]
    },
    {
      "cell_type": "markdown",
      "source": [
        "#Machine Learning Pre-processing Steps"
      ],
      "metadata": {
        "id": "P82lIRKIogYK"
      }
    },
    {
      "cell_type": "markdown",
      "source": [
        "##Data Validation Split"
      ],
      "metadata": {
        "id": "8p9rDSTVonBA"
      }
    },
    {
      "cell_type": "code",
      "source": [
        "#Split data by separating 'Item_Outlet_Sales' target and any unique or date columns from training data.\n",
        "y = df['Item_Outlet_Sales']\n",
        "X = df.drop(columns = ['Item_Outlet_Sales', 'Outlet_Identifier', 'Item_Identifier', 'Outlet_Establishment_Year'])\n",
        "\n",
        "X_train, X_test, y_train, y_test = train_test_split(X, y, random_state=42)\n",
        "X_train"
      ],
      "metadata": {
        "colab": {
          "base_uri": "https://localhost:8080/",
          "height": 424
        },
        "id": "yE_zJu12olaD",
        "outputId": "2d1c4175-3ac4-4379-f4e6-ca06e78ddc2d"
      },
      "execution_count": 13,
      "outputs": [
        {
          "output_type": "execute_result",
          "data": {
            "text/html": [
              "\n",
              "  <div id=\"df-b5c43420-15b8-4b7d-b301-9e483d75fea7\">\n",
              "    <div class=\"colab-df-container\">\n",
              "      <div>\n",
              "<style scoped>\n",
              "    .dataframe tbody tr th:only-of-type {\n",
              "        vertical-align: middle;\n",
              "    }\n",
              "\n",
              "    .dataframe tbody tr th {\n",
              "        vertical-align: top;\n",
              "    }\n",
              "\n",
              "    .dataframe thead th {\n",
              "        text-align: right;\n",
              "    }\n",
              "</style>\n",
              "<table border=\"1\" class=\"dataframe\">\n",
              "  <thead>\n",
              "    <tr style=\"text-align: right;\">\n",
              "      <th></th>\n",
              "      <th>Item_Weight</th>\n",
              "      <th>Item_Fat_Content</th>\n",
              "      <th>Item_Visibility</th>\n",
              "      <th>Item_Type</th>\n",
              "      <th>Item_MRP</th>\n",
              "      <th>Outlet_Size</th>\n",
              "      <th>Outlet_Location_Type</th>\n",
              "      <th>Outlet_Type</th>\n",
              "    </tr>\n",
              "  </thead>\n",
              "  <tbody>\n",
              "    <tr>\n",
              "      <th>4776</th>\n",
              "      <td>16.350</td>\n",
              "      <td>Low Fat</td>\n",
              "      <td>0.029565</td>\n",
              "      <td>Household</td>\n",
              "      <td>256.4646</td>\n",
              "      <td>Medium</td>\n",
              "      <td>Tier 3</td>\n",
              "      <td>Supermarket Type2</td>\n",
              "    </tr>\n",
              "    <tr>\n",
              "      <th>7510</th>\n",
              "      <td>15.250</td>\n",
              "      <td>Regular</td>\n",
              "      <td>0.053931</td>\n",
              "      <td>Snack Foods</td>\n",
              "      <td>179.7660</td>\n",
              "      <td>Medium</td>\n",
              "      <td>Tier 3</td>\n",
              "      <td>Supermarket Type2</td>\n",
              "    </tr>\n",
              "    <tr>\n",
              "      <th>5828</th>\n",
              "      <td>12.350</td>\n",
              "      <td>Regular</td>\n",
              "      <td>0.158716</td>\n",
              "      <td>Meat</td>\n",
              "      <td>157.2946</td>\n",
              "      <td>Medium</td>\n",
              "      <td>Tier 1</td>\n",
              "      <td>Supermarket Type1</td>\n",
              "    </tr>\n",
              "    <tr>\n",
              "      <th>5327</th>\n",
              "      <td>7.975</td>\n",
              "      <td>Low Fat</td>\n",
              "      <td>0.014628</td>\n",
              "      <td>Baking Goods</td>\n",
              "      <td>82.3250</td>\n",
              "      <td>Small</td>\n",
              "      <td>Tier 2</td>\n",
              "      <td>Supermarket Type1</td>\n",
              "    </tr>\n",
              "    <tr>\n",
              "      <th>4810</th>\n",
              "      <td>19.350</td>\n",
              "      <td>Low Fat</td>\n",
              "      <td>0.016645</td>\n",
              "      <td>Frozen Foods</td>\n",
              "      <td>120.9098</td>\n",
              "      <td>Small</td>\n",
              "      <td>Tier 2</td>\n",
              "      <td>Supermarket Type1</td>\n",
              "    </tr>\n",
              "    <tr>\n",
              "      <th>...</th>\n",
              "      <td>...</td>\n",
              "      <td>...</td>\n",
              "      <td>...</td>\n",
              "      <td>...</td>\n",
              "      <td>...</td>\n",
              "      <td>...</td>\n",
              "      <td>...</td>\n",
              "      <td>...</td>\n",
              "    </tr>\n",
              "    <tr>\n",
              "      <th>5734</th>\n",
              "      <td>9.395</td>\n",
              "      <td>Regular</td>\n",
              "      <td>0.286345</td>\n",
              "      <td>Fruits and Vegetables</td>\n",
              "      <td>139.1838</td>\n",
              "      <td>Medium</td>\n",
              "      <td>Tier 3</td>\n",
              "      <td>Grocery Store</td>\n",
              "    </tr>\n",
              "    <tr>\n",
              "      <th>5191</th>\n",
              "      <td>15.600</td>\n",
              "      <td>Low Fat</td>\n",
              "      <td>0.117575</td>\n",
              "      <td>Frozen Foods</td>\n",
              "      <td>75.6670</td>\n",
              "      <td>Small</td>\n",
              "      <td>Tier 2</td>\n",
              "      <td>Supermarket Type1</td>\n",
              "    </tr>\n",
              "    <tr>\n",
              "      <th>5390</th>\n",
              "      <td>17.600</td>\n",
              "      <td>Low Fat</td>\n",
              "      <td>0.018944</td>\n",
              "      <td>Health and Hygiene</td>\n",
              "      <td>237.3590</td>\n",
              "      <td>Small</td>\n",
              "      <td>Tier 2</td>\n",
              "      <td>Supermarket Type1</td>\n",
              "    </tr>\n",
              "    <tr>\n",
              "      <th>860</th>\n",
              "      <td>20.350</td>\n",
              "      <td>Low Fat</td>\n",
              "      <td>0.054363</td>\n",
              "      <td>Snack Foods</td>\n",
              "      <td>117.9466</td>\n",
              "      <td>Small</td>\n",
              "      <td>Tier 2</td>\n",
              "      <td>Supermarket Type1</td>\n",
              "    </tr>\n",
              "    <tr>\n",
              "      <th>7270</th>\n",
              "      <td>16.350</td>\n",
              "      <td>Low Fat</td>\n",
              "      <td>0.016993</td>\n",
              "      <td>Household</td>\n",
              "      <td>95.7410</td>\n",
              "      <td>Small</td>\n",
              "      <td>Tier 1</td>\n",
              "      <td>Supermarket Type1</td>\n",
              "    </tr>\n",
              "  </tbody>\n",
              "</table>\n",
              "<p>6392 rows × 8 columns</p>\n",
              "</div>\n",
              "      <button class=\"colab-df-convert\" onclick=\"convertToInteractive('df-b5c43420-15b8-4b7d-b301-9e483d75fea7')\"\n",
              "              title=\"Convert this dataframe to an interactive table.\"\n",
              "              style=\"display:none;\">\n",
              "        \n",
              "  <svg xmlns=\"http://www.w3.org/2000/svg\" height=\"24px\"viewBox=\"0 0 24 24\"\n",
              "       width=\"24px\">\n",
              "    <path d=\"M0 0h24v24H0V0z\" fill=\"none\"/>\n",
              "    <path d=\"M18.56 5.44l.94 2.06.94-2.06 2.06-.94-2.06-.94-.94-2.06-.94 2.06-2.06.94zm-11 1L8.5 8.5l.94-2.06 2.06-.94-2.06-.94L8.5 2.5l-.94 2.06-2.06.94zm10 10l.94 2.06.94-2.06 2.06-.94-2.06-.94-.94-2.06-.94 2.06-2.06.94z\"/><path d=\"M17.41 7.96l-1.37-1.37c-.4-.4-.92-.59-1.43-.59-.52 0-1.04.2-1.43.59L10.3 9.45l-7.72 7.72c-.78.78-.78 2.05 0 2.83L4 21.41c.39.39.9.59 1.41.59.51 0 1.02-.2 1.41-.59l7.78-7.78 2.81-2.81c.8-.78.8-2.07 0-2.86zM5.41 20L4 18.59l7.72-7.72 1.47 1.35L5.41 20z\"/>\n",
              "  </svg>\n",
              "      </button>\n",
              "      \n",
              "  <style>\n",
              "    .colab-df-container {\n",
              "      display:flex;\n",
              "      flex-wrap:wrap;\n",
              "      gap: 12px;\n",
              "    }\n",
              "\n",
              "    .colab-df-convert {\n",
              "      background-color: #E8F0FE;\n",
              "      border: none;\n",
              "      border-radius: 50%;\n",
              "      cursor: pointer;\n",
              "      display: none;\n",
              "      fill: #1967D2;\n",
              "      height: 32px;\n",
              "      padding: 0 0 0 0;\n",
              "      width: 32px;\n",
              "    }\n",
              "\n",
              "    .colab-df-convert:hover {\n",
              "      background-color: #E2EBFA;\n",
              "      box-shadow: 0px 1px 2px rgba(60, 64, 67, 0.3), 0px 1px 3px 1px rgba(60, 64, 67, 0.15);\n",
              "      fill: #174EA6;\n",
              "    }\n",
              "\n",
              "    [theme=dark] .colab-df-convert {\n",
              "      background-color: #3B4455;\n",
              "      fill: #D2E3FC;\n",
              "    }\n",
              "\n",
              "    [theme=dark] .colab-df-convert:hover {\n",
              "      background-color: #434B5C;\n",
              "      box-shadow: 0px 1px 3px 1px rgba(0, 0, 0, 0.15);\n",
              "      filter: drop-shadow(0px 1px 2px rgba(0, 0, 0, 0.3));\n",
              "      fill: #FFFFFF;\n",
              "    }\n",
              "  </style>\n",
              "\n",
              "      <script>\n",
              "        const buttonEl =\n",
              "          document.querySelector('#df-b5c43420-15b8-4b7d-b301-9e483d75fea7 button.colab-df-convert');\n",
              "        buttonEl.style.display =\n",
              "          google.colab.kernel.accessAllowed ? 'block' : 'none';\n",
              "\n",
              "        async function convertToInteractive(key) {\n",
              "          const element = document.querySelector('#df-b5c43420-15b8-4b7d-b301-9e483d75fea7');\n",
              "          const dataTable =\n",
              "            await google.colab.kernel.invokeFunction('convertToInteractive',\n",
              "                                                     [key], {});\n",
              "          if (!dataTable) return;\n",
              "\n",
              "          const docLinkHtml = 'Like what you see? Visit the ' +\n",
              "            '<a target=\"_blank\" href=https://colab.research.google.com/notebooks/data_table.ipynb>data table notebook</a>'\n",
              "            + ' to learn more about interactive tables.';\n",
              "          element.innerHTML = '';\n",
              "          dataTable['output_type'] = 'display_data';\n",
              "          await google.colab.output.renderOutput(dataTable, element);\n",
              "          const docLink = document.createElement('div');\n",
              "          docLink.innerHTML = docLinkHtml;\n",
              "          element.appendChild(docLink);\n",
              "        }\n",
              "      </script>\n",
              "    </div>\n",
              "  </div>\n",
              "  "
            ],
            "text/plain": [
              "      Item_Weight Item_Fat_Content  Item_Visibility              Item_Type  \\\n",
              "4776       16.350          Low Fat         0.029565              Household   \n",
              "7510       15.250          Regular         0.053931            Snack Foods   \n",
              "5828       12.350          Regular         0.158716                   Meat   \n",
              "5327        7.975          Low Fat         0.014628           Baking Goods   \n",
              "4810       19.350          Low Fat         0.016645           Frozen Foods   \n",
              "...           ...              ...              ...                    ...   \n",
              "5734        9.395          Regular         0.286345  Fruits and Vegetables   \n",
              "5191       15.600          Low Fat         0.117575           Frozen Foods   \n",
              "5390       17.600          Low Fat         0.018944     Health and Hygiene   \n",
              "860        20.350          Low Fat         0.054363            Snack Foods   \n",
              "7270       16.350          Low Fat         0.016993              Household   \n",
              "\n",
              "      Item_MRP Outlet_Size Outlet_Location_Type        Outlet_Type  \n",
              "4776  256.4646      Medium               Tier 3  Supermarket Type2  \n",
              "7510  179.7660      Medium               Tier 3  Supermarket Type2  \n",
              "5828  157.2946      Medium               Tier 1  Supermarket Type1  \n",
              "5327   82.3250       Small               Tier 2  Supermarket Type1  \n",
              "4810  120.9098       Small               Tier 2  Supermarket Type1  \n",
              "...        ...         ...                  ...                ...  \n",
              "5734  139.1838      Medium               Tier 3      Grocery Store  \n",
              "5191   75.6670       Small               Tier 2  Supermarket Type1  \n",
              "5390  237.3590       Small               Tier 2  Supermarket Type1  \n",
              "860   117.9466       Small               Tier 2  Supermarket Type1  \n",
              "7270   95.7410       Small               Tier 1  Supermarket Type1  \n",
              "\n",
              "[6392 rows x 8 columns]"
            ]
          },
          "metadata": {},
          "execution_count": 13
        }
      ]
    },
    {
      "cell_type": "markdown",
      "source": [
        "##Instantiate Selectors and Imputers"
      ],
      "metadata": {
        "id": "_pGijMXEop3d"
      }
    },
    {
      "cell_type": "code",
      "source": [
        "#Instantiate selectors and imputers\n",
        "num_selector = make_column_selector(dtype_include='number')\n",
        "cat_selector = make_column_selector(dtype_include='object')\n",
        "\n",
        "ohe = OneHotEncoder(sparse=False, handle_unknown='ignore')\n",
        "scaler = StandardScaler()\n",
        "\n",
        "median_imputer = SimpleImputer(strategy='median')\n",
        "freq_imputer = SimpleImputer(strategy='most_frequent')"
      ],
      "metadata": {
        "id": "cs8Y94HlosyF"
      },
      "execution_count": 14,
      "outputs": []
    },
    {
      "cell_type": "markdown",
      "source": [
        "##Instantiate Pipeline and Column Transformer"
      ],
      "metadata": {
        "id": "Sxn-_j5Aq3p5"
      }
    },
    {
      "cell_type": "code",
      "source": [
        "#Instantiate pipeline\n",
        "num_pipe = make_pipeline(median_imputer, scaler)\n",
        "cat_pipe = make_pipeline(freq_imputer, ohe)\n",
        "\n",
        "num_tuple = (num_pipe, num_selector)\n",
        "cat_tuple = (cat_pipe, cat_selector)\n",
        "\n",
        "preprocessor = make_column_transformer(num_tuple, cat_tuple)\n",
        "preprocessor.fit(X_train)\n",
        "X_train_processed = preprocessor.transform(X_train)\n",
        "X_test_processed = preprocessor.transform(X_test)\n",
        "X_train_processed = pd.DataFrame(X_train_processed)\n",
        "\n",
        "X_train_processed.describe().round(2)"
      ],
      "metadata": {
        "colab": {
          "base_uri": "https://localhost:8080/",
          "height": 394
        },
        "id": "uizkyWtgrCbk",
        "outputId": "d8dba5a6-38ef-417b-b781-15c72392c78e"
      },
      "execution_count": 15,
      "outputs": [
        {
          "output_type": "execute_result",
          "data": {
            "text/html": [
              "\n",
              "  <div id=\"df-d2639407-9d1a-41aa-bdb3-38269db238bc\">\n",
              "    <div class=\"colab-df-container\">\n",
              "      <div>\n",
              "<style scoped>\n",
              "    .dataframe tbody tr th:only-of-type {\n",
              "        vertical-align: middle;\n",
              "    }\n",
              "\n",
              "    .dataframe tbody tr th {\n",
              "        vertical-align: top;\n",
              "    }\n",
              "\n",
              "    .dataframe thead th {\n",
              "        text-align: right;\n",
              "    }\n",
              "</style>\n",
              "<table border=\"1\" class=\"dataframe\">\n",
              "  <thead>\n",
              "    <tr style=\"text-align: right;\">\n",
              "      <th></th>\n",
              "      <th>0</th>\n",
              "      <th>1</th>\n",
              "      <th>2</th>\n",
              "      <th>3</th>\n",
              "      <th>4</th>\n",
              "      <th>5</th>\n",
              "      <th>6</th>\n",
              "      <th>7</th>\n",
              "      <th>8</th>\n",
              "      <th>9</th>\n",
              "      <th>...</th>\n",
              "      <th>21</th>\n",
              "      <th>22</th>\n",
              "      <th>23</th>\n",
              "      <th>24</th>\n",
              "      <th>25</th>\n",
              "      <th>26</th>\n",
              "      <th>27</th>\n",
              "      <th>28</th>\n",
              "      <th>29</th>\n",
              "      <th>30</th>\n",
              "    </tr>\n",
              "  </thead>\n",
              "  <tbody>\n",
              "    <tr>\n",
              "      <th>count</th>\n",
              "      <td>6392.00</td>\n",
              "      <td>6392.00</td>\n",
              "      <td>6392.00</td>\n",
              "      <td>6392.00</td>\n",
              "      <td>6392.00</td>\n",
              "      <td>6392.00</td>\n",
              "      <td>6392.00</td>\n",
              "      <td>6392.00</td>\n",
              "      <td>6392.00</td>\n",
              "      <td>6392.00</td>\n",
              "      <td>...</td>\n",
              "      <td>6392.00</td>\n",
              "      <td>6392.00</td>\n",
              "      <td>6392.0</td>\n",
              "      <td>6392.00</td>\n",
              "      <td>6392.00</td>\n",
              "      <td>6392.00</td>\n",
              "      <td>6392.00</td>\n",
              "      <td>6392.00</td>\n",
              "      <td>6392.00</td>\n",
              "      <td>6392.00</td>\n",
              "    </tr>\n",
              "    <tr>\n",
              "      <th>mean</th>\n",
              "      <td>-0.00</td>\n",
              "      <td>-0.00</td>\n",
              "      <td>0.00</td>\n",
              "      <td>0.65</td>\n",
              "      <td>0.35</td>\n",
              "      <td>0.07</td>\n",
              "      <td>0.03</td>\n",
              "      <td>0.01</td>\n",
              "      <td>0.08</td>\n",
              "      <td>0.08</td>\n",
              "      <td>...</td>\n",
              "      <td>0.11</td>\n",
              "      <td>0.39</td>\n",
              "      <td>0.5</td>\n",
              "      <td>0.27</td>\n",
              "      <td>0.33</td>\n",
              "      <td>0.40</td>\n",
              "      <td>0.12</td>\n",
              "      <td>0.65</td>\n",
              "      <td>0.11</td>\n",
              "      <td>0.11</td>\n",
              "    </tr>\n",
              "    <tr>\n",
              "      <th>std</th>\n",
              "      <td>1.00</td>\n",
              "      <td>1.00</td>\n",
              "      <td>1.00</td>\n",
              "      <td>0.48</td>\n",
              "      <td>0.48</td>\n",
              "      <td>0.26</td>\n",
              "      <td>0.16</td>\n",
              "      <td>0.11</td>\n",
              "      <td>0.26</td>\n",
              "      <td>0.27</td>\n",
              "      <td>...</td>\n",
              "      <td>0.31</td>\n",
              "      <td>0.49</td>\n",
              "      <td>0.5</td>\n",
              "      <td>0.45</td>\n",
              "      <td>0.47</td>\n",
              "      <td>0.49</td>\n",
              "      <td>0.33</td>\n",
              "      <td>0.48</td>\n",
              "      <td>0.31</td>\n",
              "      <td>0.32</td>\n",
              "    </tr>\n",
              "    <tr>\n",
              "      <th>min</th>\n",
              "      <td>-1.97</td>\n",
              "      <td>-1.36</td>\n",
              "      <td>-1.77</td>\n",
              "      <td>0.00</td>\n",
              "      <td>0.00</td>\n",
              "      <td>0.00</td>\n",
              "      <td>0.00</td>\n",
              "      <td>0.00</td>\n",
              "      <td>0.00</td>\n",
              "      <td>0.00</td>\n",
              "      <td>...</td>\n",
              "      <td>0.00</td>\n",
              "      <td>0.00</td>\n",
              "      <td>0.0</td>\n",
              "      <td>0.00</td>\n",
              "      <td>0.00</td>\n",
              "      <td>0.00</td>\n",
              "      <td>0.00</td>\n",
              "      <td>0.00</td>\n",
              "      <td>0.00</td>\n",
              "      <td>0.00</td>\n",
              "    </tr>\n",
              "    <tr>\n",
              "      <th>25%</th>\n",
              "      <td>-0.79</td>\n",
              "      <td>-0.75</td>\n",
              "      <td>-0.76</td>\n",
              "      <td>0.00</td>\n",
              "      <td>0.00</td>\n",
              "      <td>0.00</td>\n",
              "      <td>0.00</td>\n",
              "      <td>0.00</td>\n",
              "      <td>0.00</td>\n",
              "      <td>0.00</td>\n",
              "      <td>...</td>\n",
              "      <td>0.00</td>\n",
              "      <td>0.00</td>\n",
              "      <td>0.0</td>\n",
              "      <td>0.00</td>\n",
              "      <td>0.00</td>\n",
              "      <td>0.00</td>\n",
              "      <td>0.00</td>\n",
              "      <td>0.00</td>\n",
              "      <td>0.00</td>\n",
              "      <td>0.00</td>\n",
              "    </tr>\n",
              "    <tr>\n",
              "      <th>50%</th>\n",
              "      <td>-0.06</td>\n",
              "      <td>-0.31</td>\n",
              "      <td>0.03</td>\n",
              "      <td>1.00</td>\n",
              "      <td>0.00</td>\n",
              "      <td>0.00</td>\n",
              "      <td>0.00</td>\n",
              "      <td>0.00</td>\n",
              "      <td>0.00</td>\n",
              "      <td>0.00</td>\n",
              "      <td>...</td>\n",
              "      <td>0.00</td>\n",
              "      <td>0.00</td>\n",
              "      <td>0.0</td>\n",
              "      <td>0.00</td>\n",
              "      <td>0.00</td>\n",
              "      <td>0.00</td>\n",
              "      <td>0.00</td>\n",
              "      <td>1.00</td>\n",
              "      <td>0.00</td>\n",
              "      <td>0.00</td>\n",
              "    </tr>\n",
              "    <tr>\n",
              "      <th>75%</th>\n",
              "      <td>0.77</td>\n",
              "      <td>0.52</td>\n",
              "      <td>0.72</td>\n",
              "      <td>1.00</td>\n",
              "      <td>1.00</td>\n",
              "      <td>0.00</td>\n",
              "      <td>0.00</td>\n",
              "      <td>0.00</td>\n",
              "      <td>0.00</td>\n",
              "      <td>0.00</td>\n",
              "      <td>...</td>\n",
              "      <td>0.00</td>\n",
              "      <td>1.00</td>\n",
              "      <td>1.0</td>\n",
              "      <td>1.00</td>\n",
              "      <td>1.00</td>\n",
              "      <td>1.00</td>\n",
              "      <td>0.00</td>\n",
              "      <td>1.00</td>\n",
              "      <td>0.00</td>\n",
              "      <td>0.00</td>\n",
              "    </tr>\n",
              "    <tr>\n",
              "      <th>max</th>\n",
              "      <td>2.01</td>\n",
              "      <td>5.36</td>\n",
              "      <td>1.99</td>\n",
              "      <td>1.00</td>\n",
              "      <td>1.00</td>\n",
              "      <td>1.00</td>\n",
              "      <td>1.00</td>\n",
              "      <td>1.00</td>\n",
              "      <td>1.00</td>\n",
              "      <td>1.00</td>\n",
              "      <td>...</td>\n",
              "      <td>1.00</td>\n",
              "      <td>1.00</td>\n",
              "      <td>1.0</td>\n",
              "      <td>1.00</td>\n",
              "      <td>1.00</td>\n",
              "      <td>1.00</td>\n",
              "      <td>1.00</td>\n",
              "      <td>1.00</td>\n",
              "      <td>1.00</td>\n",
              "      <td>1.00</td>\n",
              "    </tr>\n",
              "  </tbody>\n",
              "</table>\n",
              "<p>8 rows × 31 columns</p>\n",
              "</div>\n",
              "      <button class=\"colab-df-convert\" onclick=\"convertToInteractive('df-d2639407-9d1a-41aa-bdb3-38269db238bc')\"\n",
              "              title=\"Convert this dataframe to an interactive table.\"\n",
              "              style=\"display:none;\">\n",
              "        \n",
              "  <svg xmlns=\"http://www.w3.org/2000/svg\" height=\"24px\"viewBox=\"0 0 24 24\"\n",
              "       width=\"24px\">\n",
              "    <path d=\"M0 0h24v24H0V0z\" fill=\"none\"/>\n",
              "    <path d=\"M18.56 5.44l.94 2.06.94-2.06 2.06-.94-2.06-.94-.94-2.06-.94 2.06-2.06.94zm-11 1L8.5 8.5l.94-2.06 2.06-.94-2.06-.94L8.5 2.5l-.94 2.06-2.06.94zm10 10l.94 2.06.94-2.06 2.06-.94-2.06-.94-.94-2.06-.94 2.06-2.06.94z\"/><path d=\"M17.41 7.96l-1.37-1.37c-.4-.4-.92-.59-1.43-.59-.52 0-1.04.2-1.43.59L10.3 9.45l-7.72 7.72c-.78.78-.78 2.05 0 2.83L4 21.41c.39.39.9.59 1.41.59.51 0 1.02-.2 1.41-.59l7.78-7.78 2.81-2.81c.8-.78.8-2.07 0-2.86zM5.41 20L4 18.59l7.72-7.72 1.47 1.35L5.41 20z\"/>\n",
              "  </svg>\n",
              "      </button>\n",
              "      \n",
              "  <style>\n",
              "    .colab-df-container {\n",
              "      display:flex;\n",
              "      flex-wrap:wrap;\n",
              "      gap: 12px;\n",
              "    }\n",
              "\n",
              "    .colab-df-convert {\n",
              "      background-color: #E8F0FE;\n",
              "      border: none;\n",
              "      border-radius: 50%;\n",
              "      cursor: pointer;\n",
              "      display: none;\n",
              "      fill: #1967D2;\n",
              "      height: 32px;\n",
              "      padding: 0 0 0 0;\n",
              "      width: 32px;\n",
              "    }\n",
              "\n",
              "    .colab-df-convert:hover {\n",
              "      background-color: #E2EBFA;\n",
              "      box-shadow: 0px 1px 2px rgba(60, 64, 67, 0.3), 0px 1px 3px 1px rgba(60, 64, 67, 0.15);\n",
              "      fill: #174EA6;\n",
              "    }\n",
              "\n",
              "    [theme=dark] .colab-df-convert {\n",
              "      background-color: #3B4455;\n",
              "      fill: #D2E3FC;\n",
              "    }\n",
              "\n",
              "    [theme=dark] .colab-df-convert:hover {\n",
              "      background-color: #434B5C;\n",
              "      box-shadow: 0px 1px 3px 1px rgba(0, 0, 0, 0.15);\n",
              "      filter: drop-shadow(0px 1px 2px rgba(0, 0, 0, 0.3));\n",
              "      fill: #FFFFFF;\n",
              "    }\n",
              "  </style>\n",
              "\n",
              "      <script>\n",
              "        const buttonEl =\n",
              "          document.querySelector('#df-d2639407-9d1a-41aa-bdb3-38269db238bc button.colab-df-convert');\n",
              "        buttonEl.style.display =\n",
              "          google.colab.kernel.accessAllowed ? 'block' : 'none';\n",
              "\n",
              "        async function convertToInteractive(key) {\n",
              "          const element = document.querySelector('#df-d2639407-9d1a-41aa-bdb3-38269db238bc');\n",
              "          const dataTable =\n",
              "            await google.colab.kernel.invokeFunction('convertToInteractive',\n",
              "                                                     [key], {});\n",
              "          if (!dataTable) return;\n",
              "\n",
              "          const docLinkHtml = 'Like what you see? Visit the ' +\n",
              "            '<a target=\"_blank\" href=https://colab.research.google.com/notebooks/data_table.ipynb>data table notebook</a>'\n",
              "            + ' to learn more about interactive tables.';\n",
              "          element.innerHTML = '';\n",
              "          dataTable['output_type'] = 'display_data';\n",
              "          await google.colab.output.renderOutput(dataTable, element);\n",
              "          const docLink = document.createElement('div');\n",
              "          docLink.innerHTML = docLinkHtml;\n",
              "          element.appendChild(docLink);\n",
              "        }\n",
              "      </script>\n",
              "    </div>\n",
              "  </div>\n",
              "  "
            ],
            "text/plain": [
              "            0        1        2        3        4        5        6        7   \\\n",
              "count  6392.00  6392.00  6392.00  6392.00  6392.00  6392.00  6392.00  6392.00   \n",
              "mean     -0.00    -0.00     0.00     0.65     0.35     0.07     0.03     0.01   \n",
              "std       1.00     1.00     1.00     0.48     0.48     0.26     0.16     0.11   \n",
              "min      -1.97    -1.36    -1.77     0.00     0.00     0.00     0.00     0.00   \n",
              "25%      -0.79    -0.75    -0.76     0.00     0.00     0.00     0.00     0.00   \n",
              "50%      -0.06    -0.31     0.03     1.00     0.00     0.00     0.00     0.00   \n",
              "75%       0.77     0.52     0.72     1.00     1.00     0.00     0.00     0.00   \n",
              "max       2.01     5.36     1.99     1.00     1.00     1.00     1.00     1.00   \n",
              "\n",
              "            8        9   ...       21       22      23       24       25  \\\n",
              "count  6392.00  6392.00  ...  6392.00  6392.00  6392.0  6392.00  6392.00   \n",
              "mean      0.08     0.08  ...     0.11     0.39     0.5     0.27     0.33   \n",
              "std       0.26     0.27  ...     0.31     0.49     0.5     0.45     0.47   \n",
              "min       0.00     0.00  ...     0.00     0.00     0.0     0.00     0.00   \n",
              "25%       0.00     0.00  ...     0.00     0.00     0.0     0.00     0.00   \n",
              "50%       0.00     0.00  ...     0.00     0.00     0.0     0.00     0.00   \n",
              "75%       0.00     0.00  ...     0.00     1.00     1.0     1.00     1.00   \n",
              "max       1.00     1.00  ...     1.00     1.00     1.0     1.00     1.00   \n",
              "\n",
              "            26       27       28       29       30  \n",
              "count  6392.00  6392.00  6392.00  6392.00  6392.00  \n",
              "mean      0.40     0.12     0.65     0.11     0.11  \n",
              "std       0.49     0.33     0.48     0.31     0.32  \n",
              "min       0.00     0.00     0.00     0.00     0.00  \n",
              "25%       0.00     0.00     0.00     0.00     0.00  \n",
              "50%       0.00     0.00     1.00     0.00     0.00  \n",
              "75%       1.00     0.00     1.00     0.00     0.00  \n",
              "max       1.00     1.00     1.00     1.00     1.00  \n",
              "\n",
              "[8 rows x 31 columns]"
            ]
          },
          "metadata": {},
          "execution_count": 15
        }
      ]
    },
    {
      "cell_type": "markdown",
      "source": [
        "#Instantiate and Test Linear Regression Model"
      ],
      "metadata": {
        "id": "fQmf0SHt9IIs"
      }
    },
    {
      "cell_type": "code",
      "source": [
        "#Import and instantiate model\n",
        "from sklearn.linear_model import LinearRegression\n",
        "from sklearn.metrics import mean_squared_error\n",
        "from sklearn.metrics import r2_score\n",
        "\n",
        "reg = LinearRegression()\n",
        "\n",
        "#Fit model on training data and test model's viability\n",
        "reg.fit(X_train_processed, y_train)\n",
        "\n",
        "train_preds = reg.predict(X_train_processed)\n",
        "test_preds = reg.predict(X_test_processed)\n",
        "\n",
        "train_r2score = r2_score(y_train, train_preds)\n",
        "test_r2score = r2_score(y_test, test_preds)\n",
        "train_rmsescore = np.sqrt(mean_squared_error(y_train, train_preds))\n",
        "test_rmsescore = np.sqrt(mean_squared_error(y_test, test_preds))\n",
        "print(f'The Regression Model r^2 score for the training data is {train_r2score}')\n",
        "print(f'The Regression Model r^2 score for the test data is {test_r2score}')\n",
        "print('\\n\\n')\n",
        "print(f'The Regression Model RMSE score for the training data is {train_rmsescore}')\n",
        "print(f'The Regression Model RMSE score for the test data is {test_rmsescore}')"
      ],
      "metadata": {
        "colab": {
          "base_uri": "https://localhost:8080/"
        },
        "id": "nYGRhkU89-SJ",
        "outputId": "6901fd37-18c6-4aca-c0e8-614efe8ee31d"
      },
      "execution_count": 16,
      "outputs": [
        {
          "output_type": "stream",
          "name": "stdout",
          "text": [
            "The Regression Model r^2 score for the training data is 0.5607520948571956\n",
            "The Regression Model r^2 score for the test data is 0.5656498132657717\n",
            "\n",
            "\n",
            "\n",
            "The Regression Model RMSE score for the training data is 1140.1467969416103\n",
            "The Regression Model RMSE score for the test data is 1094.6973555071352\n"
          ]
        }
      ]
    },
    {
      "cell_type": "markdown",
      "source": [
        "#Instantiate and Test Decision Tree Model"
      ],
      "metadata": {
        "id": "jQrdcV59_Mcn"
      }
    },
    {
      "cell_type": "code",
      "source": [
        "from sklearn.tree import DecisionTreeRegressor\n",
        "\n",
        "#Plot max_depth to find optimal fit between train and test data\n",
        "r2_test = []\n",
        "r2_train = []\n",
        "depth_range_list = list(range(2, 42))\n",
        "for depth in depth_range_list:\n",
        "  dec_tree = DecisionTreeRegressor(random_state=42, max_depth=depth)\n",
        "  dec_tree.fit(X_train_processed, y_train)\n",
        "  r2_train_score = dec_tree.score(X_train_processed, y_train)\n",
        "  r2_test_score = dec_tree.score(X_test_processed, y_test)\n",
        "  r2_train.append(r2_train_score)\n",
        "  r2_test.append(r2_test_score)\n",
        "plt.plot(depth_range_list, r2_train,  label='Training Data')\n",
        "plt.plot(depth_range_list, r2_test, label = 'Test Data')\n",
        "plt.title('Decision Tree max_depth Adjustment')\n",
        "plt.legend()"
      ],
      "metadata": {
        "colab": {
          "base_uri": "https://localhost:8080/",
          "height": 298
        },
        "id": "pkqQWImz_VpZ",
        "outputId": "19618e8f-d391-46d3-ac6e-1c793a242077"
      },
      "execution_count": 17,
      "outputs": [
        {
          "output_type": "execute_result",
          "data": {
            "text/plain": [
              "<matplotlib.legend.Legend at 0x7f290b147710>"
            ]
          },
          "metadata": {},
          "execution_count": 17
        },
        {
          "output_type": "display_data",
          "data": {
            "image/png": "[encoded data removed]",
            "text/plain": [
              "<Figure size 432x288 with 1 Axes>"
            ]
          },
          "metadata": {
            "needs_background": "light"
          }
        }
      ]
    },
    {
      "cell_type": "code",
      "source": [
        "#Set Decision Tree max_depth to optimal fit\n",
        "dec_tree = DecisionTreeRegressor(random_state=42, max_depth=5)\n",
        "dec_tree.fit(X_train_processed, y_train)\n",
        "\n",
        "dt_trainpreds = dec_tree.predict(X_train_processed)\n",
        "dt_testpreds = dec_tree.predict(X_test_processed)\n",
        "\n",
        "dtr2_trainscore = r2_score(y_train, dt_trainpreds)\n",
        "dtr2_testscore = r2_score(y_test, dt_testpreds)\n",
        "\n",
        "dtrmse_trainscore = np.sqrt(mean_squared_error(y_train, dt_trainpreds))\n",
        "dtrmse_testscore =np.sqrt(mean_squared_error(y_test, dt_testpreds))\n",
        "print(f'The Decision Tree Model r^2 score for the training data is {dtr2_trainscore}')\n",
        "print(f'The Decision Tree Model r^2 score for the test data is {dtr2_testscore}')\n",
        "print('\\n\\n')\n",
        "print(f'The Decision Tree Model RMSE score for the training data is {dtrmse_trainscore}')\n",
        "print(f'The Decision Tree Model RMSE score for the test data is {dtrmse_testscore}')"
      ],
      "metadata": {
        "colab": {
          "base_uri": "https://localhost:8080/"
        },
        "id": "hPibKDRaBTDl",
        "outputId": "928bf1cc-6796-4954-b5a1-4b83038577b8"
      },
      "execution_count": 18,
      "outputs": [
        {
          "output_type": "stream",
          "name": "stdout",
          "text": [
            "The Decision Tree Model r^2 score for the training data is 0.603933009325518\n",
            "The Decision Tree Model r^2 score for the test data is 0.5947504400204427\n",
            "\n",
            "\n",
            "\n",
            "The Decision Tree Model RMSE score for the training data is 1082.65539989706\n",
            "The Decision Tree Model RMSE score for the test data is 1057.3903403555562\n"
          ]
        }
      ]
    },
    {
      "cell_type": "markdown",
      "source": [
        "#Instantiate and Test Random Forest Model"
      ],
      "metadata": {
        "id": "FFFc0PN0B69v"
      }
    },
    {
      "cell_type": "code",
      "source": [
        "from sklearn.ensemble import RandomForestRegressor\n",
        "\n",
        "#Test Random Forest Regressor for optimal depth and estimators\n",
        "r2_test = []\n",
        "r2_train = []\n",
        "depth_range_list = list(range(2, 42))\n",
        "for depth in depth_range_list:\n",
        "  rf = RandomForestRegressor(random_state=42, max_depth=depth)\n",
        "  rf.fit(X_train_processed, y_train)\n",
        "  r2_train_score = rf.score(X_train_processed, y_train)\n",
        "  r2_test_score = rf.score(X_test_processed, y_test)\n",
        "  r2_train.append(r2_train_score)\n",
        "  r2_test.append(r2_test_score)\n",
        "\n",
        "plt.plot(depth_range_list, r2_train,  label='Training Data')\n",
        "plt.plot(depth_range_list, r2_test, label = 'Test Data')\n",
        "plt.title('Random Forest max_depth Adjustment')\n",
        "plt.legend();"
      ],
      "metadata": {
        "colab": {
          "base_uri": "https://localhost:8080/",
          "height": 281
        },
        "id": "I42FGlJuB-Q3",
        "outputId": "3b8871e0-a20a-466d-8860-db7998f67f90"
      },
      "execution_count": 19,
      "outputs": [
        {
          "output_type": "display_data",
          "data": {
            "image/png": "[encoded data removed]",
            "text/plain": [
              "<Figure size 432x288 with 1 Axes>"
            ]
          },
          "metadata": {
            "needs_background": "light"
          }
        }
      ]
    },
    {
      "cell_type": "code",
      "source": [
        "r2est_train = []\n",
        "r2est_test = []\n",
        "est_range = list(range(100, 200, 10))\n",
        "for estimators in est_range:\n",
        "  rf = RandomForestRegressor(random_state=42, n_estimators=estimators)\n",
        "  rf.fit(X_train_processed, y_train)\n",
        "  r2_train_score = rf.score(X_train_processed, y_train)\n",
        "  r2_test_score = rf.score(X_test_processed, y_test)\n",
        "  r2est_train.append(r2_train_score)\n",
        "  r2est_test.append(r2_test_score)\n",
        "plt.plot(est_range, r2est_train,  label='Training Data');\n",
        "plt.plot(est_range, r2est_test, label = 'Test Data');\n",
        "plt.title(\"Random Forest Estimator Adjustment\")\n",
        "plt.legend()"
      ],
      "metadata": {
        "colab": {
          "base_uri": "https://localhost:8080/",
          "height": 298
        },
        "id": "-zzAe7aoDGwA",
        "outputId": "0d600cf6-d7b0-4677-b428-24a410111e87"
      },
      "execution_count": 20,
      "outputs": [
        {
          "output_type": "execute_result",
          "data": {
            "text/plain": [
              "<matplotlib.legend.Legend at 0x7f290a89eb50>"
            ]
          },
          "metadata": {},
          "execution_count": 20
        },
        {
          "output_type": "display_data",
          "data": {
            "image/png": "[encoded data removed]",
            "text/plain": [
              "<Figure size 432x288 with 1 Axes>"
            ]
          },
          "metadata": {
            "needs_background": "light"
          }
        }
      ]
    },
    {
      "cell_type": "code",
      "source": [
        "#Instantiate and test RF model on dataset\n",
        "rf = RandomForestRegressor(random_state=42, max_depth=5)\n",
        "rf.fit(X_train_processed, y_train)\n",
        "\n",
        "rf_trainpreds = rf.predict(X_train_processed)\n",
        "rf_testpreds = rf.predict(X_test_processed)\n",
        "\n",
        "rfr2_trainscore = r2_score(y_train, rf_trainpreds)\n",
        "rfr2_testscore = r2_score(y_test, rf_testpreds)\n",
        "\n",
        "rfrmse_trainscore = np.sqrt(mean_squared_error(y_train, rf_trainpreds))\n",
        "rfrmse_testscore =np.sqrt(mean_squared_error(y_test, rf_testpreds))\n",
        "print(f'The Random Forest Model r^2 score for the training data is {rfr2_trainscore}')\n",
        "print(f'The Random Forest Model r^2 score for the test data is {rfr2_testscore}')\n",
        "print('\\n\\n')\n",
        "print(f'The Random Forest Model RMSE score for the training data is {rfrmse_trainscore}')\n",
        "print(f'The Random Forest Model RMSE score for the test data is {rfrmse_testscore}')"
      ],
      "metadata": {
        "colab": {
          "base_uri": "https://localhost:8080/"
        },
        "id": "_3ceTb33Hau1",
        "outputId": "b9adeadd-1f71-40eb-f746-bc2b04a2ddb0"
      },
      "execution_count": 21,
      "outputs": [
        {
          "output_type": "stream",
          "name": "stdout",
          "text": [
            "The Random Forest Model r^2 score for the training data is 0.6106802012426924\n",
            "The Random Forest Model r^2 score for the test data is 0.6029880586893722\n",
            "\n",
            "\n",
            "\n",
            "The Random Forest Model RMSE score for the training data is 1073.3940093541821\n",
            "The Random Forest Model RMSE score for the test data is 1046.5882328136747\n"
          ]
        }
      ]
    },
    {
      "cell_type": "markdown",
      "source": [
        "#Plotting Analyses\n"
      ],
      "metadata": {
        "id": "lmM4pdymQn6X"
      }
    },
    {
      "cell_type": "code",
      "source": [
        "#Use heatmap to review correlations between numeric values\n",
        "plt.style.use('seaborn')\n",
        "corr = df.corr()\n",
        "sns.heatmap(corr, cmap = \"Greens\", annot = True)"
      ],
      "metadata": {
        "id": "NTnKNQ6-lgV3",
        "colab": {
          "base_uri": "https://localhost:8080/",
          "height": 479
        },
        "outputId": "09a9e23e-cff5-4feb-ea14-c0f338212e01"
      },
      "execution_count": 22,
      "outputs": [
        {
          "output_type": "execute_result",
          "data": {
            "text/plain": [
              "<matplotlib.axes._subplots.AxesSubplot at 0x7f290a86d410>"
            ]
          },
          "metadata": {},
          "execution_count": 22
        },
        {
          "output_type": "display_data",
          "data": {
            "image/png": "[encoded data removed]",
            "text/plain": [
              "<Figure size 576x396 with 2 Axes>"
            ]
          },
          "metadata": {}
        }
      ]
    },
    {
      "cell_type": "markdown",
      "source": [
        "#Review of possible correlation of unit sales and Outlet Location Types. "
      ],
      "metadata": {
        "id": "c2k77AqbN1rP"
      }
    },
    {
      "cell_type": "code",
      "source": [
        "tier1_sales = df.loc[outlet_tier1, 'Item_Outlet_Sales'].cumsum()\n",
        "tier2_sales = df.loc[outlet_tier2, 'Item_Outlet_Sales'].cumsum()\n",
        "tier3_sales = df.loc[outlet_tier3, 'Item_Outlet_Sales'].cumsum()\n",
        "plt.style.use('seaborn')\n",
        "fig, axes = plt.subplots(nrows = 1, ncols = 1, figsize = (8,5));\n",
        "boxplots = axes.boxplot([tier1_sales, tier2_sales, tier3_sales], \n",
        "                        labels = [\"Tier 1\", \"Tier 2\", \"Tier 3\"], \n",
        "                        widths = .7,\n",
        "                        patch_artist = True,\n",
        "                        notch = True,\n",
        "                        medianprops = dict(linestyle='-', linewidth=2),\n",
        "                        boxprops = dict(linestyle='--', linewidth=2, color='Black', alpha = .4))                      \n",
        "boxplot1 = boxplots['boxes'][0]\n",
        "boxplot2 = boxplots['boxes'][1]\n",
        "boxplot3 = boxplots['boxes'][2]\n",
        "boxplot1.set_facecolor('blue')\n",
        "boxplot2.set_facecolor('green')\n",
        "boxplot3.set_facecolor('red')\n",
        "plt.title('Cumulative Sales by Tier', fontsize = 16)\n",
        "plt.ticklabel_format(style = 'plain', axis = 'y')\n",
        "plt.ylabel('Item Sales Cumulative Sum', fontsize = 14)\n",
        "plt.xlabel(\"Item Tiers\", fontsize = 14);\n",
        "plt.tight_layout()\n",
        "fig.savefig('Cumulative Sales by Tier.png')"
      ],
      "metadata": {
        "id": "IYmjFIZwGCdM",
        "colab": {
          "base_uri": "https://localhost:8080/",
          "height": 424
        },
        "outputId": "ba90ed58-1dd6-4e5e-b070-8621f14e3f8c"
      },
      "execution_count": 23,
      "outputs": [
        {
          "output_type": "stream",
          "name": "stderr",
          "text": [
            "/usr/local/lib/python3.7/dist-packages/matplotlib/cbook/__init__.py:1376: VisibleDeprecationWarning: Creating an ndarray from ragged nested sequences (which is a list-or-tuple of lists-or-tuples-or ndarrays with different lengths or shapes) is deprecated. If you meant to do this, you must specify 'dtype=object' when creating the ndarray.\n",
            "  X = np.atleast_1d(X.T if isinstance(X, np.ndarray) else np.asarray(X))\n"
          ]
        },
        {
          "output_type": "display_data",
          "data": {
            "image/png": "[encoded data removed]",
            "text/plain": [
              "<Figure size 576x360 with 1 Axes>"
            ]
          },
          "metadata": {}
        }
      ]
    },
    {
      "cell_type": "markdown",
      "source": [
        "This boxplot comparing the cumulative sums of items as they appear in each store tier show a wider IQR in the higher tiers. Furthermore, the median is much higher in Tier 3, suggesting a strong correlation between the store's location and the sales of items."
      ],
      "metadata": {
        "id": "RgAVCyI5GEhA"
      }
    },
    {
      "cell_type": "code",
      "source": [
        "fig, axes = plt.subplots(ncols=3, nrows = 1, figsize = (16, 6));\n",
        "sns.histplot(data = df[outlet_tier1], x = 'Item_Outlet_Sales', ax = axes[0], alpha = .7,\n",
        "             label = 'Tier 1', edgecolor = 'black', color = 'blue', lw = 1.5)\n",
        "sns.histplot(data = df[outlet_tier2], x = 'Item_Outlet_Sales', ax = axes[0], \n",
        "             color = 'green', alpha = .5, label = 'Tier 2', edgecolor = 'black', lw = 1.5)\n",
        "sns.histplot(data = df[outlet_tier3], x = 'Item_Outlet_Sales', ax = axes[1], lw = 1.5, \n",
        "             edgecolor = \"black\", label = \"Tier 3\", color = 'black', alpha = .5)\n",
        "sns.histplot(data= df[outlet_tier2], x = 'Item_Outlet_Sales', ax = axes[1], \n",
        "             linewidth = 1.5, facecolor = \"green\", edgecolor=\"black\", label = \"Tier 2\",\n",
        "                                                              alpha = .7)\n",
        "sns.histplot(data = df[outlet_tier3], x = 'Item_Outlet_Sales', ax = axes[2], linewidth = 1.5, \n",
        "             edgecolor = \"black\", label = \"Tier 3\",\n",
        "              color = 'black', alpha = .5)\n",
        "sns.histplot(data = df[outlet_tier1], x = 'Item_Outlet_Sales', ax = axes[2], linewidth = 1.5, color = \"blue\", \n",
        "             edgecolor=\"black\", alpha = .7, label = \"Tier 1\")\n",
        "\n",
        "axes[0].legend()\n",
        "axes[0].set_xlabel('Tier 1 vs. Tier 2')\n",
        "axes[0].set_ylim(top = 400)\n",
        "axes[0].set_xlim(right = 12000)\n",
        "axes[1].set_xlabel('Tier 2 vs. Tier 3')\n",
        "axes[1].set_title('Unit Sales by Tier', fontsize = 16)\n",
        "axes[1].legend()\n",
        "axes[2].set_xlabel('Tier 1 vs. Tier 3')\n",
        "axes[2].legend();\n",
        "plt.tight_layout()\n",
        "fig.savefig('Unit Sales by Tier.png')"
      ],
      "metadata": {
        "id": "V1U9nle2Raz5",
        "colab": {
          "base_uri": "https://localhost:8080/",
          "height": 441
        },
        "outputId": "38c801a2-913f-4723-f9fd-4224e68bbda6"
      },
      "execution_count": 24,
      "outputs": [
        {
          "output_type": "display_data",
          "data": {
            "image/png": "[encoded data removed]",
            "text/plain": [
              "<Figure size 1152x432 with 3 Axes>"
            ]
          },
          "metadata": {}
        }
      ]
    },
    {
      "cell_type": "markdown",
      "source": [
        "Clearly there is a strong connection between number of units (and thus, Item Outlet Sales) that move out of the stores and the location of each store. But this difference seems more meaningful for items located in Tier 3 locations.\n",
        "\n",
        "Some of this correlation will be attributable to size differences in each class. Tier 3 has a higher concentration of Medium and High sizes. \n",
        "\n",
        "Therefore, we'll need to divide sales into per-unit sizes to get a better understanding of what moves sales trends."
      ],
      "metadata": {
        "id": "LTfLDTgKy_fZ"
      }
    },
    {
      "cell_type": "markdown",
      "source": [
        "#Review of Possible Correlation Between Item Visibility and Sales Types"
      ],
      "metadata": {
        "id": "6XOhUmwYOACX"
      }
    },
    {
      "cell_type": "code",
      "source": [
        "#Produce series's to use for plotting. \n",
        "#For lineplot round Item Visibility to nearest hundredth to decrease noise in data.\n",
        "sales_mean = df.groupby(['Item_Visibility', 'Outlet_Location_Type', 'Item_MRP', 'Outlet_Type'])['Item_Outlet_Sales'].mean().reset_index()\n",
        "sales_mean = sales_mean.sort_values('Outlet_Location_Type')\n",
        "itemvis_salescount = sales_mean['Item_Visibility'].round(2).value_counts()\n",
        "\n",
        "filtered_itemVis = df[['Item_Visibility', 'Item_Outlet_Sales']]\n",
        "filtered_itemVis.loc[:, 'Item_Visibility'] = filtered_itemVis['Item_Visibility'].round(2)\n",
        "item_visSales = filtered_itemVis.groupby(['Item_Visibility'])['Item_Outlet_Sales'].mean().round(2)\n",
        "\n",
        "#Plot data in 3 rows to see overview of Item Visibility effects\n",
        "fig, axes = plt.subplots(nrows=2, ncols=1, figsize = (14,10))\n",
        "'''sns.scatterplot(data =  sales_mean, x ='Item_Visibility', y='Item_Outlet_Sales',\n",
        "                alpha = .6, hue = 'Outlet_Location_Type', ax = axes[0]);'''\n",
        "sns.lineplot(x = itemvis_salescount.index, y= itemvis_salescount.values, \n",
        "             marker = 'o', markersize = 8, lw=4, ax = axes[0])\n",
        "'''sns.scatterplot(data = sales_mean, x = 'Item_Visibility', y= 'Item_MRP', ax = axes[0], \n",
        "                hue = 'Outlet_Location_Type')'''\n",
        "sns.lineplot(x = item_visSales.index, y = item_visSales.values, ax = axes[1],\n",
        "             lw = 4, marker = 'o', markersize = 8, color='green');\n",
        "'''axes[0].set_xlabel('', fontsize = 14)\n",
        "axes[0].set_ylabel('Average Sales', fontsize = 14)\n",
        "axes[0].legend(loc=(1, .5))'''\n",
        "axes[0].set_xlabel('', fontsize = 14)\n",
        "axes[0].set_ylabel('# of Units', fontsize = 20)\n",
        "axes[0].legend(loc=(1, .5))\n",
        "axes[1].set_ylabel('Average Item Sales', fontsize = 20)\n",
        "axes[1].set_xlabel('Item Visibility (%)', fontsize = 20, fontweight='semibold')\n",
        "axes[1].ticklabel_format(style='plain')\n",
        "#fig.suptitle(\"What affect does an item's visibility have on unit sales and list price?\\n\\n\", fontsize = 20,\n",
        " #            fontweight='semibold')\n",
        "plt.subplots_adjust(hspace = .4, top = .95, bottom = 0)\n",
        "plt.tight_layout();\n",
        "fig.savefig('item_vis_image_final2.png')"
      ],
      "metadata": {
        "id": "jNU-TOiXe3P5",
        "colab": {
          "base_uri": "https://localhost:8080/",
          "height": 851
        },
        "outputId": "170a3aea-682b-429b-b25b-ce5fffa0847c"
      },
      "execution_count": 25,
      "outputs": [
        {
          "output_type": "stream",
          "name": "stderr",
          "text": [
            "/usr/local/lib/python3.7/dist-packages/pandas/core/indexing.py:1951: SettingWithCopyWarning: \n",
            "A value is trying to be set on a copy of a slice from a DataFrame.\n",
            "Try using .loc[row_indexer,col_indexer] = value instead\n",
            "\n",
            "See the caveats in the documentation: https://pandas.pydata.org/pandas-docs/stable/user_guide/indexing.html#returning-a-view-versus-a-copy\n",
            "  self.obj[selected_item_labels] = value\n",
            "No handles with labels found to put in legend.\n"
          ]
        },
        {
          "output_type": "display_data",
          "data": {
            "image/png": "[encoded data removed]",
            "text/plain": [
              "<Figure size 1008x720 with 2 Axes>"
            ]
          },
          "metadata": {}
        }
      ]
    },
    {
      "cell_type": "code",
      "source": [
        "vis_by_type = df.groupby('Item_Type')['Item_Visibility'].mean().sort_values()\n",
        "sns.barplot(x = vis_by_type.index, y=vis_by_type.values)\n",
        "plt.xlabel('Food Categories', fontsize = 18, fontweight='semibold')\n",
        "plt.ylabel('Item Visibility', fontsize=18, fontweight='semibold')\n",
        "plt.xticks(rotation=90);\n",
        "plt.tight_layout()\n",
        "#plt.savefig('vis_by_category1.png')\n",
        "vis_by_type.values.std()"
      ],
      "metadata": {
        "colab": {
          "base_uri": "https://localhost:8080/",
          "height": 422
        },
        "id": "DXnhGFt9ZI-0",
        "outputId": "62c68e67-0d8d-41f9-fbaf-4b5dd51e4df1"
      },
      "execution_count": 26,
      "outputs": [
        {
          "output_type": "execute_result",
          "data": {
            "text/plain": [
              "0.00638274026323306"
            ]
          },
          "metadata": {},
          "execution_count": 26
        },
        {
          "output_type": "display_data",
          "data": {
            "image/png": "[encoded data removed]",
            "text/plain": [
              "<Figure size 576x396 with 1 Axes>"
            ]
          },
          "metadata": {}
        }
      ]
    },
    {
      "cell_type": "markdown",
      "source": [
        "Mean visibility is 6.6%, and items seem to perform most predictably up to the 15% range, and then there's a big drop-off. \n",
        "\n",
        "It seems that Tier 3 does much greater volume, which keeps the visibility rate low for each item. We can see that Tier 1 has items with much higher visibility, but this does not translate to high sales averages.\n",
        "\n",
        "Lesson: with grocery stores, the more variety the better. Fill shelf-space. "
      ],
      "metadata": {
        "id": "sri-GdQY_OyV"
      }
    },
    {
      "cell_type": "code",
      "source": [
        "#Calculate top 10 in each category for units sold and total sales average.\n",
        "item_count = df['Item_Type'].value_counts().sort_values().tail(10)\n",
        "\n",
        "item_type = df.groupby(['Item_Type'])['Item_Outlet_Sales'].mean().round(2).sort_values().tail(10)                                                                               \n",
        "    \n",
        "\n",
        "plt.style.use('fivethirtyeight')\n",
        "fig, axes = plt.subplots(ncols=2, figsize=(14,8)) \n",
        "axes[0].barh(item_type.index, item_type.values, label = 'Item Sales')\n",
        "axes[1].barh(item_count.index, item_count.values, color = 'green', label = \"Units Sold\");\n",
        "axes[0].ticklabel_format(style='plain', axis = 'x')\n",
        "axes[0].set_xlabel('Average Sales ($)', fontsize = 14)\n",
        "axes[1].set_xlabel('# of Units', fontsize = 14)\n",
        "axes[0].set_ylabel('Item Categories', fontsize = 16);\n",
        "fig.suptitle(\"What are Acme's best-sellers?\", fontsize = 20, fontweight = 'semibold',)\n",
        "plt.subplots_adjust(wspace = .4)\n",
        "plt.tight_layout();\n",
        "#\n",
        "fig.savefig('best_sellers.png')"
      ],
      "metadata": {
        "id": "LQv-PdDcDwIl",
        "colab": {
          "base_uri": "https://localhost:8080/",
          "height": 580
        },
        "outputId": "0a6f15a9-6557-45a1-8b70-d6444524c90a"
      },
      "execution_count": 27,
      "outputs": [
        {
          "output_type": "display_data",
          "data": {
            "image/png": "[encoded data removed]",
            "text/plain": [
              "<Figure size 1008x576 with 2 Axes>"
            ]
          },
          "metadata": {}
        }
      ]
    },
    {
      "cell_type": "code",
      "source": [
        "display(df.groupby(['Item_Type'])['Item_Outlet_Sales'].mean().round(2).sort_values(ascending=False))\n",
        "df['Item_Type'].value_counts().sort_values(ascending=False)"
      ],
      "metadata": {
        "colab": {
          "base_uri": "https://localhost:8080/",
          "height": 625
        },
        "id": "lVV0MS9fAqrs",
        "outputId": "bea852cf-9b5e-404f-9a6f-c50d4cd66a0e"
      },
      "execution_count": 28,
      "outputs": [
        {
          "output_type": "display_data",
          "data": {
            "text/plain": [
              "Item_Type\n",
              "Starchy Foods            2374.33\n",
              "Seafood                  2326.07\n",
              "Fruits and Vegetables    2289.01\n",
              "Snack Foods              2277.32\n",
              "Household                2258.78\n",
              "Dairy                    2232.54\n",
              "Canned                   2225.19\n",
              "Breads                   2204.13\n",
              "Meat                     2158.98\n",
              "Hard Drinks              2139.22\n",
              "Frozen Foods             2132.87\n",
              "Breakfast                2111.81\n",
              "Health and Hygiene       2010.00\n",
              "Soft Drinks              2006.51\n",
              "Baking Goods             1952.97\n",
              "Others                   1926.14\n",
              "Name: Item_Outlet_Sales, dtype: float64"
            ]
          },
          "metadata": {}
        },
        {
          "output_type": "execute_result",
          "data": {
            "text/plain": [
              "Fruits and Vegetables    1232\n",
              "Snack Foods              1200\n",
              "Household                 910\n",
              "Frozen Foods              856\n",
              "Dairy                     682\n",
              "Canned                    649\n",
              "Baking Goods              648\n",
              "Health and Hygiene        520\n",
              "Soft Drinks               445\n",
              "Meat                      425\n",
              "Breads                    251\n",
              "Hard Drinks               214\n",
              "Others                    169\n",
              "Starchy Foods             148\n",
              "Breakfast                 110\n",
              "Seafood                    64\n",
              "Name: Item_Type, dtype: int64"
            ]
          },
          "metadata": {},
          "execution_count": 28
        }
      ]
    },
    {
      "cell_type": "markdown",
      "source": [
        "Strangely, it looks like Fruits and Vegetables ranks highest by units sold, possibly because most produce is sold in small units. However, it also ranks #3 in average sales.\n",
        "\n",
        "Seafood seems to be an opportunity in boosting sales, as it comes in #2 behind Starchy Foods while still being low in terms of units sold. "
      ],
      "metadata": {
        "id": "OcM65xjEtCW0"
      }
    }
  ]
}